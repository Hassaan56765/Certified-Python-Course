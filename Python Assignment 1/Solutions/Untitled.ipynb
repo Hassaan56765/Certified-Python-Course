{
 "cells": [
  {
   "cell_type": "code",
   "execution_count": 1,
   "metadata": {},
   "outputs": [
    {
     "name": "stdout",
     "output_type": "stream",
     "text": [
      "Twinkle, twinkle, little star,\n",
      "\tHow I wonder what you are!\n",
      "\t\tUp above the world so high,\n",
      "\t\tLike a diamond in the sky.\n",
      "Twinkle, twinkle, little star,\n",
      "\tHow I wonder what you are\n"
     ]
    }
   ],
   "source": [
    "print(\"Twinkle, twinkle, little star,\\n\\tHow I wonder what you are!\\n\\t\\tUp above the world so high,\\n\\t\\tLike a diamond in the sky.\\nTwinkle, twinkle, little star,\\n\\tHow I wonder what you are\")"
   ]
  },
  {
   "cell_type": "code",
   "execution_count": 2,
   "metadata": {},
   "outputs": [
    {
     "name": "stdout",
     "output_type": "stream",
     "text": [
      "Enter a radius of circle : 13\n",
      "Area Of Circle = 530.92871\n"
     ]
    }
   ],
   "source": [
    "#area of circle program\n",
    "radius = int(input(\"Enter a radius of circle : \"))\n",
    "pi = 3.14159 \n",
    "area = (pi)*(radius**2) \n",
    "print(\"Area Of Circle = \"+str(area)) #convert str for printing purpose\n"
   ]
  },
  {
   "cell_type": "code",
   "execution_count": 5,
   "metadata": {},
   "outputs": [
    {
     "name": "stdout",
     "output_type": "stream",
     "text": [
      "Downloaded Python Version is 3.7.4 (default, Aug  9 2019, 18:34:13) [MSC v.1915 64 bit (AMD64)]\n"
     ]
    }
   ],
   "source": [
    "import sys\n",
    "print(\"Downloaded Python Version is \"+sys.version)\n"
   ]
  },
  {
   "cell_type": "code",
   "execution_count": 6,
   "metadata": {},
   "outputs": [
    {
     "name": "stdout",
     "output_type": "stream",
     "text": [
      "Current date and time : 2019-11-22 23:22:52.791066\n"
     ]
    }
   ],
   "source": [
    "import datetime\n",
    "date_time = datetime.datetime.now()\n",
    "print(\"Current date and time : \"+str(date_time))   #cnvrt str for printing purpose\n"
   ]
  },
  {
   "cell_type": "code",
   "execution_count": 3,
   "metadata": {},
   "outputs": [
    {
     "name": "stdout",
     "output_type": "stream",
     "text": [
      "Enter your first name : Hassaan\n",
      "Enter your last name : Raheem\n",
      "Reverse Name : Raheem Hassaan\n"
     ]
    }
   ],
   "source": [
    "#Program Of Reverse Full_Name\n",
    "first_name = input(\"Enter your first name : \")\n",
    "last_name = input(\"Enter your last name : \")\n",
    "full_name = last_name + \" \" +first_name\n",
    "print(\"Reverse Name : \"+full_name)\n"
   ]
  },
  {
   "cell_type": "code",
   "execution_count": 4,
   "metadata": {},
   "outputs": [
    {
     "name": "stdout",
     "output_type": "stream",
     "text": [
      "Enter a number 1 : 10\n",
      "Enter a number 2 : 90\n",
      "sum of 10+90 = 100\n"
     ]
    }
   ],
   "source": [
    "#Program Of Addition\n",
    "num_1 = int(input(\"Enter a number 1 : \"))\n",
    "num_2 = int(input(\"Enter a number 2 : \"))\n",
    "sum = num_1 + num_2\n",
    "print(\"sum of \"+str(num_1)+\"+\"+str(num_2)+\" = \"+str(sum))   #converts str for printing purpose\n"
   ]
  },
  {
   "cell_type": "code",
   "execution_count": null,
   "metadata": {},
   "outputs": [],
   "source": []
  }
 ],
 "metadata": {
  "kernelspec": {
   "display_name": "Python 3",
   "language": "python",
   "name": "python3"
  },
  "language_info": {
   "codemirror_mode": {
    "name": "ipython",
    "version": 3
   },
   "file_extension": ".py",
   "mimetype": "text/x-python",
   "name": "python",
   "nbconvert_exporter": "python",
   "pygments_lexer": "ipython3",
   "version": "3.7.4"
  }
 },
 "nbformat": 4,
 "nbformat_minor": 2
}
