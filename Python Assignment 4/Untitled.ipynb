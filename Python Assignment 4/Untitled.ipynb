{
 "cells": [
  {
   "cell_type": "code",
   "execution_count": null,
   "metadata": {},
   "outputs": [],
   "source": [
    "# Task1 Of Asssignment 4\n",
    "bio_data = {\n",
    "    \"First_Name\" : \"Hassaan\",\n",
    "    \"Last_Name,\" : \"Raheem\",\n",
    "    \"Age\":\"19\",\n",
    "    \"City\" : \"Karachi\"\n",
    "}\n",
    "\n",
    "for i in bio_data.values():\n",
    "    print(i)\n",
    "\n",
    "bio_data.update({\"qualification\":\"Matric\"})\n",
    "\n",
    "print(bio_data[\"qualification\"])\n",
    "\n",
    "bio_data[\"qualification\"] = \"Intermediate\"\n",
    "print(\"After update Qualification \",bio_data[\"qualification\"])\n",
    "\n",
    "del bio_data[\"qualification\"]\n",
    "\n",
    "print(bio_data)"
   ]
  },
  {
   "cell_type": "code",
   "execution_count": null,
   "metadata": {},
   "outputs": [],
   "source": [
    "# Task2 Of Asssignment 4\n",
    "City ={\n",
    "    \"karachi\" : {\n",
    "        \"country\": \"Pakistan\",\n",
    "        \"population\":\"21.2 million ~\",\n",
    "        \"fact\":\"The old name of Karachi is \\\"Kolachi\\\".\"\n",
    "    },\n",
    "    \"Lahore\" : {\n",
    "        \"country\": \"Pakistan\",\n",
    "        \"population\":\"11.3 million ~\",\n",
    "        \"fact\":\"Many Legendqary Poets belong from this city.\"\n",
    "    },\n",
    "    \"Mumbai\" : {\n",
    "        \"country\": \"India\",\n",
    "        \"population\":\"18.4 million ~\",\n",
    "        \"fact\":\"Mumbai’s trains carry around six million people per day.\"\n",
    "    }\n",
    "}\n",
    "    \n",
    "for i in City.keys():\n",
    "    print(\"City : \",i)\n",
    "    print(\"Country : \" , City[i][\"country\"])\n",
    "    print(\"Population :\" , City[i][\"population\"])\n",
    "    print(\"Fact : \" , City[i][\"fact\"])\n",
    "    print(\"!______________________________________________________________________________________________!\")"
   ]
  },
  {
   "cell_type": "code",
   "execution_count": null,
   "metadata": {},
   "outputs": [],
   "source": []
  }
 ],
 "metadata": {
  "kernelspec": {
   "display_name": "Python 3",
   "language": "python",
   "name": "python3"
  },
  "language_info": {
   "codemirror_mode": {
    "name": "ipython",
    "version": 3
   },
   "file_extension": ".py",
   "mimetype": "text/x-python",
   "name": "python",
   "nbconvert_exporter": "python",
   "pygments_lexer": "ipython3",
   "version": "3.7.4"
  }
 },
 "nbformat": 4,
 "nbformat_minor": 2
}
