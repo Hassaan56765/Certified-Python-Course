{
 "cells": [
  {
   "cell_type": "code",
   "execution_count": 3,
   "metadata": {},
   "outputs": [
    {
     "name": "stdout",
     "output_type": "stream",
     "text": [
      "OOP is a programming paradigm \n",
      "which is used for reusability\n",
      "and manipulating code into object\n",
      "which is physically exist.\n"
     ]
    }
   ],
   "source": [
    "# OOP\n",
    "print(\"OOP is a programming paradigm \\nwhich is used for reusability\\nand manipulating code into object\\nwhich is physically exist.\")"
   ]
  },
  {
   "cell_type": "code",
   "execution_count": 4,
   "metadata": {},
   "outputs": [
    {
     "name": "stdout",
     "output_type": "stream",
     "text": [
      "1. Modular structure\n",
      "2. Reusability\n",
      "3. Easier to maintain\n",
      "4. Faster development\n"
     ]
    }
   ],
   "source": [
    "# Benefits of OOP\n",
    "print(\"1. Modular structure\")\n",
    "print(\"2. Reusability\")\n",
    "print(\"3. Easier to maintain\")\n",
    "print(\"4. Faster development\")\n",
    "\n"
   ]
  },
  {
   "cell_type": "markdown",
   "metadata": {},
   "source": [
    "# D/f between function and methods\n",
    "print(\"Functions :\")\n",
    "print(\"A function is a block of code to carry out a specific task, will contain its own scope and is called by name. All functions may contain zero(no) arguments or more than one arguments. On exit, a function can or can not return one or more values.\")\n",
    "print(\"Methods :\")\n",
    "print(\"A method in python is somewhat similar to a function, except it is associated with object/classes. Methods in python are very similar to functions except for two major differences.\")\n",
    "print(1. The method is implicitly used for an object for which it is called.)\n",
    "print(2. The method is accessible to data that is contained within the class.)"
   ]
  },
  {
   "cell_type": "code",
   "execution_count": 6,
   "metadata": {},
   "outputs": [
    {
     "name": "stdout",
     "output_type": "stream",
     "text": [
      "1. Class : It is a blue print and template of an object.\n",
      "2. Object : It is physically exist thing and its instance of class.\n",
      "3. Attribute : It is variables of class.\n",
      "4. Behaviours : It is methods of class.\n"
     ]
    }
   ],
   "source": [
    "# Class , Object , Attributes , Behaviour\n",
    "print(\"1. Class : It is a blue print and template of an object.\")\n",
    "print(\"2. Object : It is physically exist thing and its instance of class.\")\n",
    "print(\"3. Attribute : It is variables of class.\")\n",
    "print(\"4. Behaviours : It is methods of class.\")\n"
   ]
  },
  {
   "cell_type": "code",
   "execution_count": null,
   "metadata": {},
   "outputs": [],
   "source": []
  }
 ],
 "metadata": {
  "kernelspec": {
   "display_name": "Python 3",
   "language": "python",
   "name": "python3"
  },
  "language_info": {
   "codemirror_mode": {
    "name": "ipython",
    "version": 3
   },
   "file_extension": ".py",
   "mimetype": "text/x-python",
   "name": "python",
   "nbconvert_exporter": "python",
   "pygments_lexer": "ipython3",
   "version": "3.7.4"
  }
 },
 "nbformat": 4,
 "nbformat_minor": 2
}
